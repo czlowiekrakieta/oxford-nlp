{
 "cells": [
  {
   "cell_type": "code",
   "execution_count": 1,
   "metadata": {
    "collapsed": true
   },
   "outputs": [],
   "source": [
    "import numpy as np\n",
    "import tensorflow as tf\n",
    "import utils, imp\n",
    "from functools import partial"
   ]
  },
  {
   "cell_type": "markdown",
   "metadata": {},
   "source": [
    "Before we use any sentiment training, it might be worth exploring, which words are in any way determining labels. There are more than 70k words, so learning matrices capable of processing vectors that huge is going to take forever. Most of them is going be not so informative - for instance, words like 'I', 'the', 'will', 'be', 'want' are most likely going to occur in every label with roughly the same probability. \n",
    "\n",
    "What I will want to find, will be how distributions of joint probability $P( W, L )$ diverges from independence assumptions $P( W, L ) = P(W)P(L)$. "
   ]
  },
  {
   "cell_type": "markdown",
   "metadata": {},
   "source": [
    "What models am I going to build? First one will be simple Naive Bayes. I will test for occurence of given word, its count and Tf-Idf score. I will use CountVectorizer and TfidfVectorizer from sci-kit learn package. Moreover, using vectors given by these models as inputs, I will build simple logistic regression and neural network with one hidden layer. Another model I'm curious to check out would be average over word embeddings in sentence. At last, I will reach recurrent neural networks, which I expect to explore more deeply."
   ]
  },
  {
   "cell_type": "markdown",
   "metadata": {},
   "source": [
    "Due to desire to keep this notebook somewhat clean and readable, I'm storing both all of my helper functions and models in separate files. I will try to explain what is going on, but they are easily checkable."
   ]
  },
  {
   "cell_type": "code",
   "execution_count": 2,
   "metadata": {
    "collapsed": true
   },
   "outputs": [],
   "source": [
    "dataset, test = utils.load_and_train_test_split(keywords=['technology', 'design', 'entertainment'], train_size=.7)\n",
    "\n",
    "#it loads and shuffles my training data from TED dataset. Here used with default parameters. Under the hood, it also\n",
    "#does some basic preprocessing - turns to lowercase, deletes numbers and diactric signs\n",
    "\n",
    "x_train, y_train = list(zip(*dataset))\n",
    "y_train, labels_readable = utils.transform_labels_usable(y_train)\n",
    "\n",
    "x_test, y_test = list(zip(*test))\n",
    "y_test = utils.transform_labels_usable(y_test)[0]"
   ]
  },
  {
   "cell_type": "code",
   "execution_count": 3,
   "metadata": {
    "collapsed": true
   },
   "outputs": [],
   "source": [
    "data = x_train, y_train, x_test, y_test"
   ]
  },
  {
   "cell_type": "code",
   "execution_count": 4,
   "metadata": {},
   "outputs": [
    {
     "data": {
      "text/plain": [
       "(array([0, 1, 2, 3, 4, 5, 6, 7]),\n",
       " array([796, 111, 116,  19, 271,  23, 100,  23]))"
      ]
     },
     "execution_count": 4,
     "metadata": {},
     "output_type": "execute_result"
    }
   ],
   "source": [
    "np.unique(y_train, return_counts=True)"
   ]
  },
  {
   "cell_type": "markdown",
   "metadata": {},
   "source": [
    "Classes are highly imbalanced. This is going to be a problem."
   ]
  },
  {
   "cell_type": "markdown",
   "metadata": {},
   "source": [
    "I'm going to need some plotting device. Matplotlib is indispensable."
   ]
  },
  {
   "cell_type": "code",
   "execution_count": 5,
   "metadata": {
    "collapsed": true
   },
   "outputs": [],
   "source": [
    "import matplotlib.pyplot as plt"
   ]
  },
  {
   "cell_type": "markdown",
   "metadata": {},
   "source": [
    "In order to determine most useful words, I will need some metric of difference between two distributions of probability - first one being proportional to labels' frequency in dataset and other one conditioned by word. There are two common ways to do this - first one is called mutual information score, second is Chi-Squared test. \n",
    "\n",
    "$$ MI = \\sum_{w_i \\in W} \\sum_{l_j \\in L} P( w = w_i, l = l_j ) \\log \\frac{P( w = w_i, l = l_j )}{P( w = w_i) P(l = l_j)} $$\n",
    "\n",
    "Those of you familiar with statistics can recognize this as cross entropy - basically we are testing how different our joint distribution is from distributions that holds independence assumption.\n",
    "\n",
    "Chi-Squared test also tests this difference, but with more straightforward way.\n",
    "\n",
    "$$ \\tilde{\\chi}^2 = \\sum_{w_i \\in W} \\sum_{l_j \\in L} \\frac{\\left( N_{ w_i, l_j} - E_{  w_i, l_j } \\right)^2}{E_{ w_i, l_j }}$$\n",
    "\n",
    "where $N_{ w = w_i, l = l_j}$ is number of real occurences of both word and label and $E_{ w = w_i, l = l_j }$ is number of occurence should these two factors were independent. $\\tilde{\\chi}^2$ is probability distribution - if it is in \n",
    "\n",
    "Fortunately, I don't have to write this pretty straightforward functions myself - sci-kit learn package is going to do all tedious processing."
   ]
  },
  {
   "cell_type": "code",
   "execution_count": 6,
   "metadata": {
    "collapsed": true
   },
   "outputs": [],
   "source": [
    "from sklearn.feature_selection import chi2, mutual_info_classif"
   ]
  },
  {
   "cell_type": "markdown",
   "metadata": {},
   "source": [
    "First things first, I can't really use all the words. Many of them occurs only once, so it would be basically relying on chance. I have to assert that every $P( w = w_i, l = l_j )$ is greater than zero, at the very least."
   ]
  },
  {
   "cell_type": "code",
   "execution_count": 7,
   "metadata": {
    "collapsed": true
   },
   "outputs": [],
   "source": [
    "word_counts = utils.count_words(x_train)"
   ]
  },
  {
   "cell_type": "code",
   "execution_count": 8,
   "metadata": {
    "collapsed": true
   },
   "outputs": [],
   "source": [
    "proportions_dict = utils.calculate_probs_occurence(word_counts.keys(), x_train, y_train)"
   ]
  },
  {
   "cell_type": "markdown",
   "metadata": {},
   "source": [
    "Let's check number of words fulfilling the condition of having at least 20 occurences in every class. Apart from that, I will test for showing up in at least ten percent of documents."
   ]
  },
  {
   "cell_type": "code",
   "execution_count": 9,
   "metadata": {
    "collapsed": true
   },
   "outputs": [],
   "source": [
    "perc_threshold = int(len(x_train)/10)\n",
    "occ_threshold = 20"
   ]
  },
  {
   "cell_type": "code",
   "execution_count": 10,
   "metadata": {
    "collapsed": true
   },
   "outputs": [],
   "source": [
    "at_least_occ = list(filter(lambda x: np.all(proportions_dict[x] > occ_threshold), proportions_dict.keys()))\n",
    "at_least_threshold = list(filter(lambda x: np.sum(proportions_dict[x])>perc_threshold, proportions_dict.keys()))"
   ]
  },
  {
   "cell_type": "code",
   "execution_count": 11,
   "metadata": {},
   "outputs": [
    {
     "data": {
      "text/plain": [
       "0"
      ]
     },
     "execution_count": 11,
     "metadata": {},
     "output_type": "execute_result"
    }
   ],
   "source": [
    "len(at_least_occ)"
   ]
  },
  {
   "cell_type": "markdown",
   "metadata": {},
   "source": [
    "Well, that was unexpected"
   ]
  },
  {
   "cell_type": "code",
   "execution_count": 12,
   "metadata": {},
   "outputs": [
    {
     "data": {
      "text/plain": [
       "1118"
      ]
     },
     "execution_count": 12,
     "metadata": {},
     "output_type": "execute_result"
    }
   ],
   "source": [
    "len(at_least_threshold)"
   ]
  },
  {
   "cell_type": "code",
   "execution_count": 13,
   "metadata": {
    "collapsed": true
   },
   "outputs": [],
   "source": [
    "at_least_5 = list(filter(lambda x: np.all(proportions_dict[x]>5), proportions_dict.keys()))"
   ]
  },
  {
   "cell_type": "code",
   "execution_count": 14,
   "metadata": {},
   "outputs": [
    {
     "data": {
      "text/plain": [
       "300"
      ]
     },
     "execution_count": 14,
     "metadata": {},
     "output_type": "execute_result"
    }
   ],
   "source": [
    "len(at_least_5)"
   ]
  },
  {
   "cell_type": "markdown",
   "metadata": {},
   "source": [
    "All in all, everything will be determined be final score of the estimator - maybe someone more skilled in statistics would be able to predict, which approach is going to yield better accuracy of predictions? Before I get around to testing predictors, it's time to check how these sets encapsulate each other."
   ]
  },
  {
   "cell_type": "code",
   "execution_count": 15,
   "metadata": {},
   "outputs": [
    {
     "data": {
      "text/plain": [
       "818"
      ]
     },
     "execution_count": 15,
     "metadata": {},
     "output_type": "execute_result"
    }
   ],
   "source": [
    "len(set(at_least_threshold) - set(at_least_5))"
   ]
  },
  {
   "cell_type": "markdown",
   "metadata": {},
   "source": [
    "Before I do any feature engineering, let's check how simple models are going to perform on last two sets of words. I will use three vectorizers and three different models, respectively. Binary count vectorizer will select features for Bernoulli Naive Bayes ( further NB ), ordinary count vectorizer will produce inputs for Multinomial NB and tf-idf vectorizer will fabricate samples for Gaussian NB."
   ]
  },
  {
   "cell_type": "markdown",
   "metadata": {},
   "source": [
    "What do I mean by text vectorizer? Well, it is simply function that takes some given sequence of words as input and outputs some vector of numbers - be it integers or reals. For instance, for dictionary of words of size $N$, vectorizer will output vector of size $N$. Number on $i$-th position will be representing frequency, occurence (or lack thereof) of $i$-th word. In binary vectorizer, it will be 1 if word was found in given text and zero otherwise. In count vectorizer, it is going be number of times word was found in text. Misterious tf-idf vectorizer will return number produced by equation: $\\frac{\\#w_{ji}}{\\#w_j} \\cdot \\frac{N}{\\log 1 + D_{w_i} }$, where $w_j$ denotes number of words in document, $w_{ji}$ number of times word $w_i$ can be found in $D_j$ and $D_{w_i}$ is number of documents which one can find $w_i$ in."
   ]
  },
  {
   "cell_type": "code",
   "execution_count": 16,
   "metadata": {
    "collapsed": true
   },
   "outputs": [],
   "source": [
    "from sklearn.naive_bayes import MultinomialNB, BernoulliNB, GaussianNB\n",
    "from sklearn.feature_extraction.text import CountVectorizer, TfidfVectorizer\n",
    "from sklearn.metrics import accuracy_score"
   ]
  },
  {
   "cell_type": "markdown",
   "metadata": {},
   "source": [
    "I've decided to import accuracy_score only for brevity - displaying confusion matrix, while useful, is going to take up a lot of place in this notebook. It would be reasonable for one classifier, but not for six of them (two vocab sets, three models ). Since this is multiclass problem, I can't really use other metrics such as precision and recall out of the box - I would have to turn this into multiple binary classification problems."
   ]
  },
  {
   "cell_type": "code",
   "execution_count": 17,
   "metadata": {
    "collapsed": true
   },
   "outputs": [],
   "source": [
    "BinaryVectorizer = partial(CountVectorizer, binary=True)"
   ]
  },
  {
   "cell_type": "code",
   "execution_count": 18,
   "metadata": {},
   "outputs": [
    {
     "data": {
      "text/plain": [
       "<module 'utils' from '/home/lukasz/Dokumenty/DEEP LEARNING/NLP/oxford/utils.py'>"
      ]
     },
     "execution_count": 18,
     "metadata": {},
     "output_type": "execute_result"
    }
   ],
   "source": [
    "imp.reload(utils)"
   ]
  },
  {
   "cell_type": "code",
   "execution_count": 41,
   "metadata": {
    "collapsed": true
   },
   "outputs": [],
   "source": [
    "overall_scores = []\n",
    "pips = []\n",
    "vect_model = list(zip([BinaryVectorizer, CountVectorizer, TfidfVectorizer],[BernoulliNB, MultinomialNB, GaussianNB]))\n",
    "for vocab in [at_least_5, at_least_threshold]:\n",
    "    \n",
    "    for i in range(3):\n",
    "        \n",
    "        vectorizer, model = vect_model[i]\n",
    "        params = {\n",
    "            'vectorizer':vectorizer,\n",
    "            'model':model,\n",
    "            'vocabulary':vocab,\n",
    "            'data':data\n",
    "        }\n",
    "        score, pip = utils.train_test_pipeline(**params)\n",
    "        overall_scores.append(score)\n",
    "        pips.append(pip)"
   ]
  },
  {
   "cell_type": "code",
   "execution_count": 43,
   "metadata": {},
   "outputs": [
    {
     "data": {
      "text/plain": [
       "[{'test': 0.40894568690095845, 'train': 0.46196024674434544},\n",
       " {'test': 0.42971246006389774, 'train': 0.48320767649074708},\n",
       " {'test': 0.40734824281150162, 'train': 0.5476353666895134},\n",
       " {'test': 0.46325878594249204, 'train': 0.60795065113091162},\n",
       " {'test': 0.51118210862619806, 'train': 0.62919808087731321},\n",
       " {'test': 0.52396166134185307, 'train': 0.78272789581905411}]"
      ]
     },
     "execution_count": 43,
     "metadata": {},
     "output_type": "execute_result"
    }
   ],
   "source": [
    "overall_scores"
   ]
  },
  {
   "cell_type": "code",
   "execution_count": 46,
   "metadata": {
    "collapsed": true
   },
   "outputs": [],
   "source": [
    "score, pip = utils.train_test_pipeline(vectorizer=BinaryVectorizer, model=MultinomialNB, vocabulary=at_least_threshold, data=data)"
   ]
  },
  {
   "cell_type": "code",
   "execution_count": 47,
   "metadata": {},
   "outputs": [
    {
     "data": {
      "text/plain": [
       "({'test': 0.52715654952076674, 'train': 0.70185058259081567},\n",
       " Pipeline(steps=[('countvectorizer', CountVectorizer(analyzer='word', binary=True, decode_error='strict',\n",
       "         dtype=<class 'numpy.int64'>, encoding='utf-8', input='content',\n",
       "         lowercase=True, max_df=1.0, max_features=None, min_df=1,\n",
       "         ngram_range=(1, 1), preprocessor=None, stop_words=None,\n",
       "    ...     validate=True)), ('multinomialnb', MultinomialNB(alpha=1.0, class_prior=None, fit_prior=True))]))"
      ]
     },
     "execution_count": 47,
     "metadata": {},
     "output_type": "execute_result"
    }
   ],
   "source": [
    "score, pip"
   ]
  },
  {
   "cell_type": "code",
   "execution_count": 48,
   "metadata": {
    "collapsed": true
   },
   "outputs": [],
   "source": [
    "overall_scores.append(score)\n",
    "pips.append(pip)"
   ]
  },
  {
   "cell_type": "markdown",
   "metadata": {},
   "source": [
    "Unexpected winner"
   ]
  },
  {
   "cell_type": "code",
   "execution_count": 19,
   "metadata": {
    "collapsed": true
   },
   "outputs": [],
   "source": [
    "from sklearn.metrics import precision_score, recall_score"
   ]
  },
  {
   "cell_type": "code",
   "execution_count": 52,
   "metadata": {
    "collapsed": true
   },
   "outputs": [],
   "source": [
    "predictions = pips[-1].predict(x_test)"
   ]
  },
  {
   "cell_type": "code",
   "execution_count": 72,
   "metadata": {},
   "outputs": [
    {
     "name": "stderr",
     "output_type": "stream",
     "text": [
      "/usr/local/lib/python3.5/dist-packages/sklearn/metrics/classification.py:1113: UndefinedMetricWarning: Precision is ill-defined and being set to 0.0 due to no predicted samples.\n",
      "  'precision', 'predicted', average, warn_for)\n"
     ]
    },
    {
     "name": "stdout",
     "output_type": "stream",
     "text": [
      "{'recall': [0.6, 0.58, 0.37, 0.0, 0.53, 0.14, 0.26, 0.0], 'precision': [0.75, 0.26, 0.45, 0.0, 0.44, 0.17, 0.25, 0.0]}\n",
      "{'recall': [0.63, 0.4, 0.41, 0.0, 0.51, 0.0, 0.26, 0.0], 'precision': [0.74, 0.39, 0.28, 0.0, 0.39, 0.0, 0.22, 0.0]}\n",
      "{'recall': [0.54, 0.66, 0.48, 0.0, 0.55, 0.0, 0.31, 0.12], 'precision': [0.78, 0.32, 0.46, 0.0, 0.4, 0.0, 0.26, 0.11]}\n",
      "{'recall': [0.52, 0.44, 0.28, 0.0, 0.58, 0.0, 0.13, 0.0], 'precision': [0.74, 0.16, 0.39, 0.0, 0.38, 0.0, 0.28, 0.0]}\n"
     ]
    }
   ],
   "source": [
    "for i in range(1,5):\n",
    "    \n",
    "    predictions = pips[-i].predict(x_test)\n",
    "    print({n:np.round(utils.test_score_one_vs_all(predictions, y_test, func), 2).tolist()\n",
    "           for n, func in zip(['precision', 'recall'], [precision_score, recall_score])})"
   ]
  },
  {
   "cell_type": "markdown",
   "metadata": {},
   "source": [
    "Not very impressive - we see that rare classes were rarely ( mostly not at all ) correctly labeled."
   ]
  },
  {
   "cell_type": "markdown",
   "metadata": {},
   "source": [
    "\n",
    "\n",
    "Finally, it's time to select best features, so I can be honest while comparing scores of different classifiers. It would not be very wise to give verdict \"Naive Bayes is crap\" while not taking elementary steps to make it a little bit better.\n",
    "\n",
    "I'll start off with MIS. Also, since this is neither production-level analysis nor Kaggle contest, I will use only two best-performing models from previous pipeline - which means Multinomial Naive Bayes on top of Binary Vectorizer and Gaussian NB on top of Tf-idf. It does not mean, of course, that some other model would not outperform this one with less number of irrelevant words."
   ]
  },
  {
   "cell_type": "markdown",
   "metadata": {},
   "source": [
    "Abstraction of an abstraction ;)"
   ]
  },
  {
   "cell_type": "code",
   "execution_count": 119,
   "metadata": {},
   "outputs": [
    {
     "data": {
      "text/plain": [
       "<module 'utils' from '/home/lukasz/Dokumenty/DEEP LEARNING/NLP/oxford/utils.py'>"
      ]
     },
     "execution_count": 119,
     "metadata": {},
     "output_type": "execute_result"
    }
   ],
   "source": [
    "imp.reload(utils)"
   ]
  },
  {
   "cell_type": "code",
   "execution_count": 35,
   "metadata": {
    "collapsed": true
   },
   "outputs": [],
   "source": [
    "from sklearn.preprocessing import FunctionTransformer, Normalizer, StandardScaler\n",
    "from sklearn.feature_selection import SelectKBest"
   ]
  },
  {
   "cell_type": "code",
   "execution_count": 121,
   "metadata": {},
   "outputs": [
    {
     "name": "stdout",
     "output_type": "stream",
     "text": [
      "100\n",
      "200\n",
      "300\n",
      "400\n",
      "500\n",
      "600\n",
      "700\n",
      "800\n",
      "900\n",
      "1000\n",
      "1100\n"
     ]
    }
   ],
   "source": [
    "params = {\n",
    "            'vocabulary':vocab,\n",
    "            'data':data\n",
    "        }\n",
    "\n",
    "gparams = {\n",
    "    'model':GaussianNB,\n",
    "    'vectorizer':TfidfVectorizer\n",
    "}\n",
    "\n",
    "gparams.update(params)\n",
    "\n",
    "bparams = {\n",
    "    'model':MultinomialNB,\n",
    "    'vectorizer':BinaryVectorizer\n",
    "}\n",
    "\n",
    "bparams.update(params)\n",
    "\n",
    "binary = []\n",
    "gauss = []\n",
    "\n",
    "for k in range(100, 1200, 100):\n",
    "    \n",
    "    mic = {'selection_func':mutual_info_classif, 'k':k}\n",
    "    bparams.update(mic)\n",
    "    bscore, pip = utils.feature_selection_pipeline(**bparams)\n",
    "    \n",
    "    gparams.update(mic)\n",
    "    gscore, pip = utils.feature_selection_pipeline(**gparams)\n",
    "    \n",
    "    bparams.update({'selection_func':chi2})\n",
    "    bscore_2, pip = utils.feature_selection_pipeline(**bparams)\n",
    "    \n",
    "    gparams.update({'selection_func':chi2})\n",
    "    gscore_2, pip = utils.feature_selection_pipeline(**gparams)\n",
    "    \n",
    "    binary.append(( bscore['test'], bscore_2['test'] ))\n",
    "    gauss.append((gscore['test'], gscore_2['test']))\n",
    "    \n",
    "    print(k)"
   ]
  },
  {
   "cell_type": "code",
   "execution_count": 133,
   "metadata": {},
   "outputs": [
    {
     "data": {
      "image/png": "[encoded data removed]",
      "text/plain": [
       "<matplotlib.figure.Figure at 0x7f6eac9e1828>"
      ]
     },
     "metadata": {},
     "output_type": "display_data"
    }
   ],
   "source": [
    "m, c = list(zip(*binary))\n",
    "r = range(100, 1200, 100)\n",
    "plt.plot(r, m, label='MI')\n",
    "plt.plot(r, c, label=r'chi^2')\n",
    "plt.legend(loc='best')\n",
    "plt.show()"
   ]
  },
  {
   "cell_type": "code",
   "execution_count": 134,
   "metadata": {},
   "outputs": [
    {
     "data": {
      "image/png": "[encoded data removed]",
      "text/plain": [
       "<matplotlib.figure.Figure at 0x7f6eacaa2da0>"
      ]
     },
     "metadata": {},
     "output_type": "display_data"
    }
   ],
   "source": [
    "m, c = list(zip(*gauss))\n",
    "r = range(100, 1200, 100)\n",
    "plt.plot(r, m, label='MI')\n",
    "plt.plot(r, c, label=r'chi^2')\n",
    "plt.legend(loc='best')\n",
    "plt.show()"
   ]
  },
  {
   "cell_type": "markdown",
   "metadata": {},
   "source": [
    "Apparently Gaussian classifier does better and better with more data, while binary one worsens its performance, needing highly selective features"
   ]
  },
  {
   "cell_type": "code",
   "execution_count": 135,
   "metadata": {
    "collapsed": true
   },
   "outputs": [],
   "source": [
    "bparams['k'] = 10"
   ]
  },
  {
   "cell_type": "code",
   "execution_count": 136,
   "metadata": {
    "collapsed": true
   },
   "outputs": [],
   "source": [
    "bscore, pip = utils.feature_selection_pipeline(**bparams)"
   ]
  },
  {
   "cell_type": "code",
   "execution_count": 137,
   "metadata": {},
   "outputs": [
    {
     "data": {
      "text/plain": [
       "{'test': 0.57987220447284349, 'train': 0.56751199451679235}"
      ]
     },
     "execution_count": 137,
     "metadata": {},
     "output_type": "execute_result"
    }
   ],
   "source": [
    "bscore"
   ]
  },
  {
   "cell_type": "code",
   "execution_count": 138,
   "metadata": {},
   "outputs": [
    {
     "name": "stderr",
     "output_type": "stream",
     "text": [
      "/usr/local/lib/python3.5/dist-packages/sklearn/metrics/classification.py:1113: UndefinedMetricWarning: Precision is ill-defined and being set to 0.0 due to no predicted samples.\n",
      "  'precision', 'predicted', average, warn_for)\n"
     ]
    },
    {
     "data": {
      "text/plain": [
       "[0.58626760563380287, 0.0, 1.0, 0.0, 0.5, 0.0, 0.0, 0.0]"
      ]
     },
     "execution_count": 138,
     "metadata": {},
     "output_type": "execute_result"
    }
   ],
   "source": [
    "utils.test_score_one_vs_all(pip.predict(x_test), y_test, precision_score)"
   ]
  },
  {
   "cell_type": "code",
   "execution_count": 139,
   "metadata": {},
   "outputs": [
    {
     "data": {
      "text/plain": [
       "[0.96242774566473988,\n",
       " 0.0,\n",
       " 0.043478260869565216,\n",
       " 0.0,\n",
       " 0.23333333333333334,\n",
       " 0.0,\n",
       " 0.0,\n",
       " 0.0]"
      ]
     },
     "execution_count": 139,
     "metadata": {},
     "output_type": "execute_result"
    }
   ],
   "source": [
    "utils.test_score_one_vs_all(pip.predict(x_test), y_test, recall_score)"
   ]
  },
  {
   "cell_type": "markdown",
   "metadata": {},
   "source": [
    "I knew that there is a catch. Turns out that label imbalance is bigger problem than I've thought. While naive bayes has no way of battling this phenomenon, one might introduce sample weights into logistic regression - which is classifier I'm going to turn my attention into."
   ]
  },
  {
   "cell_type": "code",
   "execution_count": 21,
   "metadata": {
    "collapsed": true
   },
   "outputs": [],
   "source": [
    "from sklearn.linear_model import LogisticRegression"
   ]
  },
  {
   "cell_type": "markdown",
   "metadata": {},
   "source": [
    "How am I going to weight samples? One method is to use $w_i = \\frac{N}{K*n_i}$, where $N$ is number of samples, $K$ number of classes and $n_i$ number of samples with $i$ class. Another would be to split training in batches, uniformly filled with all of the classes. While the former is straighforward with sklearn - one has to switch one argument while defining estimator, latter will be a bit of a hassle."
   ]
  },
  {
   "cell_type": "code",
   "execution_count": 22,
   "metadata": {
    "collapsed": true
   },
   "outputs": [],
   "source": [
    "balance = len(x_train)/np.unique(y_train, return_counts=True)[1]"
   ]
  },
  {
   "cell_type": "code",
   "execution_count": 202,
   "metadata": {},
   "outputs": [
    {
     "name": "stdout",
     "output_type": "stream",
     "text": [
      "{'train': 0.59287183002056199, 'recall': 0.14684190960877944, 'precision': 0.24206684362934361, 'test': 0.57827476038338654}\n"
     ]
    },
    {
     "name": "stderr",
     "output_type": "stream",
     "text": [
      "/usr/local/lib/python3.5/dist-packages/sklearn/metrics/classification.py:1113: UndefinedMetricWarning: Precision is ill-defined and being set to 0.0 due to no predicted samples.\n",
      "  'precision', 'predicted', average, warn_for)\n"
     ]
    }
   ],
   "source": [
    "scores, pip = utils.train_test_pipeline(TfidfVectorizer, LogisticRegression, data, at_least_threshold)\n",
    "\n",
    "print(scores)"
   ]
  },
  {
   "cell_type": "code",
   "execution_count": 203,
   "metadata": {
    "scrolled": false
   },
   "outputs": [
    {
     "name": "stdout",
     "output_type": "stream",
     "text": [
      "{'train': 0.70733379026730636, 'recall': 0.3028464059710918, 'precision': 0.35368114141662343, 'test': 0.60383386581469645}\n"
     ]
    }
   ],
   "source": [
    "scores, pip = utils.train_test_pipeline(TfidfVectorizer, LogisticRegression, data, at_least_threshold, \n",
    "                                        class_weight='balanced')\n",
    "\n",
    "print(scores)"
   ]
  },
  {
   "cell_type": "code",
   "execution_count": 197,
   "metadata": {
    "scrolled": true
   },
   "outputs": [
    {
     "name": "stdout",
     "output_type": "stream",
     "text": [
      "{'train': 0.77107607950651136, 'recall': 0.32661768354373277, 'precision': 0.35387695505863009, 'test': 0.61661341853035145}\n",
      "{'train': 0.78821110349554491, 'recall': 0.33345959315251222, 'precision': 0.36422372145784043, 'test': 0.62140575079872207}\n",
      "{'train': 0.80123372172721041, 'recall': 0.33132086482881284, 'precision': 0.36155803465906311, 'test': 0.62140575079872207}\n",
      "{'train': 0.81631254283755994, 'recall': 0.33299658946649396, 'precision': 0.36986747229996975, 'test': 0.62140575079872207}\n",
      "{'train': 0.82179575051405074, 'recall': 0.33554536718412686, 'precision': 0.37148034507020555, 'test': 0.62140575079872207}\n",
      "{'train': 0.83755997258396164, 'recall': 0.3357627584884747, 'precision': 0.37161870806251446, 'test': 0.62140575079872207}\n",
      "{'train': 0.84372858122001371, 'recall': 0.3364431534788408, 'precision': 0.36956918951881984, 'test': 0.62140575079872207}\n"
     ]
    }
   ],
   "source": [
    "for c in range(3,10):\n",
    "    scores, pip = utils.train_test_pipeline(TfidfVectorizer, LogisticRegression, data, at_least_threshold, \n",
    "                                        class_weight='balanced', C=c)\n",
    "    \n",
    "    print(scores)"
   ]
  },
  {
   "cell_type": "markdown",
   "metadata": {},
   "source": [
    "Well, it seems that regularization constant around 7-8 is optimal choice. Default model was constrained too strongly. While overfitting is substantial, recall, precision and test accuracy raise along with train accuracy."
   ]
  },
  {
   "cell_type": "markdown",
   "metadata": {},
   "source": [
    "Another thing worth checking is how logistic regression deals with truncated feature space."
   ]
  },
  {
   "cell_type": "code",
   "execution_count": 209,
   "metadata": {},
   "outputs": [
    {
     "data": {
      "text/plain": [
       "<module 'utils' from '/home/lukasz/Dokumenty/DEEP LEARNING/NLP/oxford/utils.py'>"
      ]
     },
     "execution_count": 209,
     "metadata": {},
     "output_type": "execute_result"
    }
   ],
   "source": [
    "imp.reload(utils)"
   ]
  },
  {
   "cell_type": "code",
   "execution_count": 242,
   "metadata": {
    "scrolled": true
   },
   "outputs": [
    {
     "name": "stdout",
     "output_type": "stream",
     "text": [
      "{'train': 0.65935572309801238, 'recall': 0.32422538381447652, 'precision': 0.32834114750233173, 'test': 0.59105431309904155}\n",
      "{'train': 0.70596298834818372, 'recall': 0.34698737223445064, 'precision': 0.34365979168889021, 'test': 0.597444089456869}\n",
      "{'train': 0.72858122001370806, 'recall': 0.33923583129193835, 'precision': 0.34913776049169309, 'test': 0.61341853035143767}\n",
      "{'train': 0.74640164496230299, 'recall': 0.32990712861110572, 'precision': 0.34045726928463993, 'test': 0.61341853035143767}\n",
      "{'train': 0.76148046607265252, 'recall': 0.33756842413053145, 'precision': 0.36000717662951709, 'test': 0.61661341853035145}\n",
      "{'train': 0.77793008910212469, 'recall': 0.32485766218158152, 'precision': 0.34249070751336425, 'test': 0.61022364217252401}\n",
      "{'train': 0.79369431117203559, 'recall': 0.32637625981917889, 'precision': 0.3563618046088754, 'test': 0.61501597444089462}\n",
      "{'train': 0.81151473612063052, 'recall': 0.33520638802430708, 'precision': 0.37205113621861691, 'test': 0.6230031948881789}\n",
      "{'train': 0.81631254283755994, 'recall': 0.3302924447902772, 'precision': 0.3633406629248116, 'test': 0.61341853035143767}\n",
      "{'train': 0.82590815627141878, 'recall': 0.33273704979991109, 'precision': 0.36582509961306686, 'test': 0.61821086261980829}\n",
      "{'train': 0.8307059629883482, 'recall': 0.33722109182180804, 'precision': 0.37080509252195865, 'test': 0.62140575079872207}\n"
     ]
    }
   ],
   "source": [
    "for k in range(100, 1200, 100):\n",
    "    \n",
    "    scores, pip = utils.feature_selection_pipeline(TfidfVectorizer, \n",
    "                                                   LogisticRegression, \n",
    "                                                   data, \n",
    "                                                   chi2, \n",
    "                                                   k=k, \n",
    "                                                   vocabulary=at_least_threshold, \n",
    "                                                   C=7.5,\n",
    "                                                   class_weight='balanced'\n",
    "                                                  )    \n",
    "    print(scores)"
   ]
  },
  {
   "cell_type": "markdown",
   "metadata": {},
   "source": [
    "Nothing more impressive than learning with all words in vocabulary. However, might be useful in terms of efficiency. "
   ]
  },
  {
   "cell_type": "markdown",
   "metadata": {},
   "source": [
    "I don't believe that I am capable of squeezing better score from logistic regression on top of tf-idf. Time to change vectorizer to something less obvious - word embeddings. I won't train them myself, however. I'm going to use vectors linked on course page - https://github.com/oxford-cs-deepnlp-2017/practical-2 . There is couple of versions, differing in vector dimension and, most likely, performance and accuracy. Let's start with 50-dimensional vectors."
   ]
  },
  {
   "cell_type": "code",
   "execution_count": 23,
   "metadata": {
    "collapsed": true
   },
   "outputs": [],
   "source": [
    "from gensim.models.word2vec import Word2Vec"
   ]
  },
  {
   "cell_type": "code",
   "execution_count": 24,
   "metadata": {
    "collapsed": true
   },
   "outputs": [],
   "source": [
    "model = Word2Vec.load_word2vec_format('../embeddings/vecs_50.vec')"
   ]
  },
  {
   "cell_type": "code",
   "execution_count": 217,
   "metadata": {
    "collapsed": true
   },
   "outputs": [],
   "source": [
    "vec, ind = utils.vectorize_docs(x_train, model)"
   ]
  },
  {
   "cell_type": "code",
   "execution_count": 30,
   "metadata": {
    "collapsed": true
   },
   "outputs": [],
   "source": [
    "def take_subset_to_word2vec(data):\n",
    "    vec, ind = utils.vectorize_docs(data[0], model)\n",
    "    new_data = []\n",
    "    N = len(data[0])\n",
    "    for s in data[:2]:\n",
    "        \n",
    "        new_data.append([s[i] for i in range(N) if i in ind])\n",
    "    \n",
    "    vec, ind = utils.vectorize_docs(data[2], model)\n",
    "    N = len(data[2])\n",
    "    for s in data[2:]:\n",
    "        \n",
    "        new_data.append([s[i] for i in range(N) if i in ind])\n",
    "        \n",
    "    return new_data"
   ]
  },
  {
   "cell_type": "code",
   "execution_count": 31,
   "metadata": {
    "collapsed": true
   },
   "outputs": [],
   "source": [
    "trunc_data = take_subset_to_word2vec(data)"
   ]
  },
  {
   "cell_type": "code",
   "execution_count": 262,
   "metadata": {},
   "outputs": [
    {
     "data": {
      "text/plain": [
       "[1455, 1455, 625, 625]"
      ]
     },
     "execution_count": 262,
     "metadata": {},
     "output_type": "execute_result"
    }
   ],
   "source": [
    "list(map(len, trunc_data))"
   ]
  },
  {
   "cell_type": "code",
   "execution_count": 32,
   "metadata": {},
   "outputs": [],
   "source": [
    "embed_x_train = utils.vectorize_docs(trunc_data[0], model)\n",
    "embed_x_test = utils.vectorize_docs(trunc_data[2], model)"
   ]
  },
  {
   "cell_type": "code",
   "execution_count": 33,
   "metadata": {
    "collapsed": true
   },
   "outputs": [],
   "source": [
    "embed_data = embed_x_train[0], trunc_data[1], embed_x_test[0], trunc_data[3]"
   ]
  },
  {
   "cell_type": "code",
   "execution_count": 290,
   "metadata": {
    "scrolled": true
   },
   "outputs": [
    {
     "data": {
      "text/plain": [
       "<module 'utils' from '/home/lukasz/Dokumenty/DEEP LEARNING/NLP/oxford/utils.py'>"
      ]
     },
     "execution_count": 290,
     "metadata": {},
     "output_type": "execute_result"
    }
   ],
   "source": [
    "imp.reload(utils)"
   ]
  },
  {
   "cell_type": "code",
   "execution_count": 282,
   "metadata": {
    "scrolled": true
   },
   "outputs": [
    {
     "name": "stderr",
     "output_type": "stream",
     "text": [
      "/usr/local/lib/python3.5/dist-packages/sklearn/metrics/classification.py:1113: UndefinedMetricWarning: Precision is ill-defined and being set to 0.0 due to no predicted samples.\n",
      "  'precision', 'predicted', average, warn_for)\n",
      "/usr/local/lib/python3.5/dist-packages/sklearn/metrics/classification.py:1113: UndefinedMetricWarning: Precision is ill-defined and being set to 0.0 due to no predicted samples.\n",
      "  'precision', 'predicted', average, warn_for)\n",
      "/usr/local/lib/python3.5/dist-packages/sklearn/metrics/classification.py:1113: UndefinedMetricWarning: Precision is ill-defined and being set to 0.0 due to no predicted samples.\n",
      "  'precision', 'predicted', average, warn_for)\n",
      "/usr/local/lib/python3.5/dist-packages/sklearn/metrics/classification.py:1113: UndefinedMetricWarning: Precision is ill-defined and being set to 0.0 due to no predicted samples.\n",
      "  'precision', 'predicted', average, warn_for)\n",
      "/usr/local/lib/python3.5/dist-packages/sklearn/metrics/classification.py:1113: UndefinedMetricWarning: Precision is ill-defined and being set to 0.0 due to no predicted samples.\n",
      "  'precision', 'predicted', average, warn_for)\n",
      "/usr/local/lib/python3.5/dist-packages/sklearn/metrics/classification.py:1113: UndefinedMetricWarning: Precision is ill-defined and being set to 0.0 due to no predicted samples.\n",
      "  'precision', 'predicted', average, warn_for)\n"
     ]
    },
    {
     "name": "stdout",
     "output_type": "stream",
     "text": [
      "{'train': 0.54089347079037797, 'recall': 0.125, 'precision': 0.069199999999999998, 'test': 0.55359999999999998}\n",
      "{'train': 0.54089347079037797, 'recall': 0.125, 'precision': 0.069199999999999998, 'test': 0.55359999999999998}\n",
      "{'train': 0.54089347079037797, 'recall': 0.125, 'precision': 0.069199999999999998, 'test': 0.55359999999999998}\n",
      "{'train': 0.54089347079037797, 'recall': 0.125, 'precision': 0.069199999999999998, 'test': 0.55359999999999998}\n",
      "{'train': 0.54089347079037797, 'recall': 0.125, 'precision': 0.069199999999999998, 'test': 0.55359999999999998}\n",
      "{'train': 0.55051546391752582, 'recall': 0.16158711316896701, 'precision': 0.25806715806715808, 'test': 0.55840000000000001}\n",
      "{'train': 0.57319587628865976, 'recall': 0.23093825409801247, 'precision': 0.33419951804918624, 'test': 0.58720000000000006}\n",
      "{'train': 0.58969072164948455, 'recall': 0.28978786901115738, 'precision': 0.33003454878454874, 'test': 0.59360000000000002}\n",
      "{'train': 0.59518900343642611, 'recall': 0.29197344922367807, 'precision': 0.31876114411580625, 'test': 0.58399999999999996}\n",
      "{'train': 0.59243986254295533, 'recall': 0.3147618477185759, 'precision': 0.32905021917466953, 'test': 0.58720000000000006}\n"
     ]
    }
   ],
   "source": [
    "for c in [1e-5, 1e-4, 1e-3, 1e-2, 1e-1, 1, 2, 4, 6, 8]:\n",
    "    \n",
    "    scores, pip = utils.uninformed_train_pipeline(LogisticRegression, embed_data, Normalizer, \n",
    "                                                  class_weight='balanced', C=c)\n",
    "    print(scores)"
   ]
  },
  {
   "cell_type": "code",
   "execution_count": 27,
   "metadata": {
    "collapsed": true
   },
   "outputs": [],
   "source": [
    "from sklearn.neural_network import MLPClassifier"
   ]
  },
  {
   "cell_type": "code",
   "execution_count": 38,
   "metadata": {},
   "outputs": [
    {
     "name": "stderr",
     "output_type": "stream",
     "text": [
      "/usr/local/lib/python3.5/dist-packages/sklearn/metrics/classification.py:1113: UndefinedMetricWarning: Precision is ill-defined and being set to 0.0 due to no predicted samples.\n",
      "  'precision', 'predicted', average, warn_for)\n"
     ]
    }
   ],
   "source": [
    "scores, pip = utils.uninformed_train_pipeline(MLPClassifier, embed_data, Normalizer, hidden_layer_sizes=[500, 100])"
   ]
  },
  {
   "cell_type": "code",
   "execution_count": 39,
   "metadata": {},
   "outputs": [
    {
     "data": {
      "text/plain": [
       "{'precision': 0.22719599479784694,\n",
       " 'recall': 0.23448419001895052,\n",
       " 'test': 0.5846645367412141,\n",
       " 'train': 0.64305364511691887}"
      ]
     },
     "execution_count": 39,
     "metadata": {},
     "output_type": "execute_result"
    }
   ],
   "source": [
    "scores"
   ]
  },
  {
   "cell_type": "code",
   "execution_count": 25,
   "metadata": {
    "collapsed": true
   },
   "outputs": [],
   "source": [
    "import models"
   ]
  },
  {
   "cell_type": "code",
   "execution_count": 373,
   "metadata": {},
   "outputs": [
    {
     "data": {
      "text/plain": [
       "<module 'utils' from '/home/lukasz/Dokumenty/DEEP LEARNING/NLP/oxford/utils.py'>"
      ]
     },
     "execution_count": 373,
     "metadata": {},
     "output_type": "execute_result"
    }
   ],
   "source": [
    "imp.reload(utils)"
   ]
  },
  {
   "cell_type": "code",
   "execution_count": 374,
   "metadata": {
    "collapsed": true
   },
   "outputs": [],
   "source": [
    "rnn_data = utils.prepare_data_to_rnn(data, model)"
   ]
  },
  {
   "cell_type": "code",
   "execution_count": 411,
   "metadata": {
    "scrolled": true
   },
   "outputs": [
    {
     "ename": "KeyboardInterrupt",
     "evalue": "",
     "output_type": "error",
     "traceback": [
      "\u001b[0;31m---------------------------------------------------------------------------\u001b[0m",
      "\u001b[0;31mKeyboardInterrupt\u001b[0m                         Traceback (most recent call last)",
      "\u001b[0;32m<ipython-input-411-d873d14396f4>\u001b[0m in \u001b[0;36m<module>\u001b[0;34m()\u001b[0m\n\u001b[1;32m      1\u001b[0m \u001b[0mimp\u001b[0m\u001b[0;34m.\u001b[0m\u001b[0mreload\u001b[0m\u001b[0;34m(\u001b[0m\u001b[0mmodels\u001b[0m\u001b[0;34m)\u001b[0m\u001b[0;34m\u001b[0m\u001b[0m\n\u001b[1;32m      2\u001b[0m \u001b[0;34m\u001b[0m\u001b[0m\n\u001b[0;32m----> 3\u001b[0;31m \u001b[0mrnn\u001b[0m \u001b[0;34m=\u001b[0m \u001b[0mmodels\u001b[0m\u001b[0;34m.\u001b[0m\u001b[0mModel\u001b[0m\u001b[0;34m(\u001b[0m\u001b[0mfunc\u001b[0m\u001b[0;34m=\u001b[0m\u001b[0mmodels\u001b[0m\u001b[0;34m.\u001b[0m\u001b[0mbuild_rnn\u001b[0m\u001b[0;34m,\u001b[0m \u001b[0minput_size\u001b[0m\u001b[0;34m=\u001b[0m\u001b[0;36m50\u001b[0m\u001b[0;34m,\u001b[0m \u001b[0moutput_size\u001b[0m\u001b[0;34m=\u001b[0m\u001b[0;36m8\u001b[0m\u001b[0;34m,\u001b[0m \u001b[0mbidirectional\u001b[0m\u001b[0;34m=\u001b[0m\u001b[0;32mFalse\u001b[0m\u001b[0;34m,\u001b[0m \u001b[0mhidden\u001b[0m\u001b[0;34m=\u001b[0m\u001b[0;36m100\u001b[0m\u001b[0;34m)\u001b[0m\u001b[0;34m\u001b[0m\u001b[0m\n\u001b[0m",
      "\u001b[0;32m/home/lukasz/Dokumenty/DEEP LEARNING/NLP/oxford/models.py\u001b[0m in \u001b[0;36m__init__\u001b[0;34m(self, func, iters, batch, **kwargs)\u001b[0m\n\u001b[1;32m     15\u001b[0m         \u001b[0mtf\u001b[0m\u001b[0;34m.\u001b[0m\u001b[0mreset_default_graph\u001b[0m\u001b[0;34m(\u001b[0m\u001b[0;34m)\u001b[0m\u001b[0;34m\u001b[0m\u001b[0m\n\u001b[1;32m     16\u001b[0m \u001b[0;34m\u001b[0m\u001b[0m\n\u001b[0;32m---> 17\u001b[0;31m         \u001b[0mself\u001b[0m\u001b[0;34m.\u001b[0m\u001b[0mplaceholders\u001b[0m\u001b[0;34m,\u001b[0m \u001b[0mself\u001b[0m\u001b[0;34m.\u001b[0m\u001b[0mlogits\u001b[0m\u001b[0;34m,\u001b[0m \u001b[0mself\u001b[0m\u001b[0;34m.\u001b[0m\u001b[0mstuff\u001b[0m\u001b[0;34m,\u001b[0m \u001b[0mself\u001b[0m\u001b[0;34m.\u001b[0m\u001b[0mclasses\u001b[0m \u001b[0;34m=\u001b[0m \u001b[0mfunc\u001b[0m\u001b[0;34m(\u001b[0m\u001b[0;34m**\u001b[0m\u001b[0mkwargs\u001b[0m\u001b[0;34m)\u001b[0m\u001b[0;34m\u001b[0m\u001b[0m\n\u001b[0m\u001b[1;32m     18\u001b[0m \u001b[0;34m\u001b[0m\u001b[0m\n\u001b[1;32m     19\u001b[0m         \u001b[0mself\u001b[0m\u001b[0;34m.\u001b[0m\u001b[0mtargets_ph\u001b[0m \u001b[0;34m=\u001b[0m \u001b[0mself\u001b[0m\u001b[0;34m.\u001b[0m\u001b[0mplaceholders\u001b[0m\u001b[0;34m[\u001b[0m\u001b[0;34m'outputs'\u001b[0m\u001b[0;34m]\u001b[0m\u001b[0;34m\u001b[0m\u001b[0m\n",
      "\u001b[0;32m/home/lukasz/Dokumenty/DEEP LEARNING/NLP/oxford/models.py\u001b[0m in \u001b[0;36mbuild_rnn\u001b[0;34m(input_size, output_size, hidden, cell, bidirectional, time_major, max_length)\u001b[0m\n\u001b[1;32m    163\u001b[0m             \u001b[0msequence_length\u001b[0m\u001b[0;34m=\u001b[0m\u001b[0mlengths\u001b[0m\u001b[0;34m,\u001b[0m\u001b[0;34m\u001b[0m\u001b[0m\n\u001b[1;32m    164\u001b[0m             \u001b[0minputs\u001b[0m\u001b[0;34m=\u001b[0m\u001b[0mtf\u001b[0m\u001b[0;34m.\u001b[0m\u001b[0munstack\u001b[0m\u001b[0;34m(\u001b[0m\u001b[0minputs\u001b[0m\u001b[0;34m,\u001b[0m \u001b[0maxis\u001b[0m\u001b[0;34m=\u001b[0m\u001b[0;36m1\u001b[0m\u001b[0;34m)\u001b[0m\u001b[0;34m,\u001b[0m\u001b[0;34m\u001b[0m\u001b[0m\n\u001b[0;32m--> 165\u001b[0;31m             \u001b[0mdtype\u001b[0m\u001b[0;34m=\u001b[0m\u001b[0mtf\u001b[0m\u001b[0;34m.\u001b[0m\u001b[0mfloat32\u001b[0m\u001b[0;34m\u001b[0m\u001b[0m\n\u001b[0m\u001b[1;32m    166\u001b[0m         )\n\u001b[1;32m    167\u001b[0m \u001b[0;34m\u001b[0m\u001b[0m\n",
      "\u001b[0;32m/usr/local/lib/python3.5/dist-packages/tensorflow/contrib/rnn/python/ops/core_rnn.py\u001b[0m in \u001b[0;36mstatic_rnn\u001b[0;34m(cell, inputs, initial_state, dtype, sequence_length, scope)\u001b[0m\n\u001b[1;32m    193\u001b[0m             \u001b[0mstate\u001b[0m\u001b[0;34m=\u001b[0m\u001b[0mstate\u001b[0m\u001b[0;34m,\u001b[0m\u001b[0;34m\u001b[0m\u001b[0m\n\u001b[1;32m    194\u001b[0m             \u001b[0mcall_cell\u001b[0m\u001b[0;34m=\u001b[0m\u001b[0mcall_cell\u001b[0m\u001b[0;34m,\u001b[0m\u001b[0;34m\u001b[0m\u001b[0m\n\u001b[0;32m--> 195\u001b[0;31m             state_size=cell.state_size)\n\u001b[0m\u001b[1;32m    196\u001b[0m       \u001b[0;32melse\u001b[0m\u001b[0;34m:\u001b[0m\u001b[0;34m\u001b[0m\u001b[0m\n\u001b[1;32m    197\u001b[0m         \u001b[0;34m(\u001b[0m\u001b[0moutput\u001b[0m\u001b[0;34m,\u001b[0m \u001b[0mstate\u001b[0m\u001b[0;34m)\u001b[0m \u001b[0;34m=\u001b[0m \u001b[0mcall_cell\u001b[0m\u001b[0;34m(\u001b[0m\u001b[0;34m)\u001b[0m\u001b[0;34m\u001b[0m\u001b[0m\n",
      "\u001b[0;32m/usr/local/lib/python3.5/dist-packages/tensorflow/python/ops/rnn.py\u001b[0m in \u001b[0;36m_rnn_step\u001b[0;34m(time, sequence_length, min_sequence_length, max_sequence_length, zero_output, state, call_cell, state_size, skip_conditionals)\u001b[0m\n\u001b[1;32m    186\u001b[0m         \u001b[0mtime\u001b[0m \u001b[0;34m>=\u001b[0m \u001b[0mmax_sequence_length\u001b[0m\u001b[0;34m,\u001b[0m \u001b[0mempty_update\u001b[0m\u001b[0;34m,\u001b[0m\u001b[0;34m\u001b[0m\u001b[0m\n\u001b[1;32m    187\u001b[0m         \u001b[0;31m# otherwise calculation is required: copy some or all of it through\u001b[0m\u001b[0;34m\u001b[0m\u001b[0;34m\u001b[0m\u001b[0m\n\u001b[0;32m--> 188\u001b[0;31m         _maybe_copy_some_through)\n\u001b[0m\u001b[1;32m    189\u001b[0m \u001b[0;34m\u001b[0m\u001b[0m\n\u001b[1;32m    190\u001b[0m   \u001b[0;32mif\u001b[0m \u001b[0mlen\u001b[0m\u001b[0;34m(\u001b[0m\u001b[0mfinal_output_and_state\u001b[0m\u001b[0;34m)\u001b[0m \u001b[0;34m!=\u001b[0m \u001b[0mlen\u001b[0m\u001b[0;34m(\u001b[0m\u001b[0mflat_zero_output\u001b[0m\u001b[0;34m)\u001b[0m \u001b[0;34m+\u001b[0m \u001b[0mlen\u001b[0m\u001b[0;34m(\u001b[0m\u001b[0mflat_state\u001b[0m\u001b[0;34m)\u001b[0m\u001b[0;34m:\u001b[0m\u001b[0;34m\u001b[0m\u001b[0m\n",
      "\u001b[0;32m/usr/local/lib/python3.5/dist-packages/tensorflow/python/ops/control_flow_ops.py\u001b[0m in \u001b[0;36mcond\u001b[0;34m(pred, fn1, fn2, name)\u001b[0m\n\u001b[1;32m   1764\u001b[0m     \u001b[0mcontext_f\u001b[0m \u001b[0;34m=\u001b[0m \u001b[0mCondContext\u001b[0m\u001b[0;34m(\u001b[0m\u001b[0mpred\u001b[0m\u001b[0;34m,\u001b[0m \u001b[0mpivot_2\u001b[0m\u001b[0;34m,\u001b[0m \u001b[0mbranch\u001b[0m\u001b[0;34m=\u001b[0m\u001b[0;36m0\u001b[0m\u001b[0;34m)\u001b[0m\u001b[0;34m\u001b[0m\u001b[0m\n\u001b[1;32m   1765\u001b[0m     \u001b[0mcontext_f\u001b[0m\u001b[0;34m.\u001b[0m\u001b[0mEnter\u001b[0m\u001b[0;34m(\u001b[0m\u001b[0;34m)\u001b[0m\u001b[0;34m\u001b[0m\u001b[0m\n\u001b[0;32m-> 1766\u001b[0;31m     \u001b[0m_\u001b[0m\u001b[0;34m,\u001b[0m \u001b[0mres_f\u001b[0m \u001b[0;34m=\u001b[0m \u001b[0mcontext_f\u001b[0m\u001b[0;34m.\u001b[0m\u001b[0mBuildCondBranch\u001b[0m\u001b[0;34m(\u001b[0m\u001b[0mfn2\u001b[0m\u001b[0;34m)\u001b[0m\u001b[0;34m\u001b[0m\u001b[0m\n\u001b[0m\u001b[1;32m   1767\u001b[0m     \u001b[0mcontext_f\u001b[0m\u001b[0;34m.\u001b[0m\u001b[0mExitResult\u001b[0m\u001b[0;34m(\u001b[0m\u001b[0mres_f\u001b[0m\u001b[0;34m)\u001b[0m\u001b[0;34m\u001b[0m\u001b[0m\n\u001b[1;32m   1768\u001b[0m     \u001b[0mcontext_f\u001b[0m\u001b[0;34m.\u001b[0m\u001b[0mExit\u001b[0m\u001b[0;34m(\u001b[0m\u001b[0;34m)\u001b[0m\u001b[0;34m\u001b[0m\u001b[0m\n",
      "\u001b[0;32m/usr/local/lib/python3.5/dist-packages/tensorflow/python/ops/control_flow_ops.py\u001b[0m in \u001b[0;36mBuildCondBranch\u001b[0;34m(self, fn)\u001b[0m\n\u001b[1;32m   1658\u001b[0m   \u001b[0;32mdef\u001b[0m \u001b[0mBuildCondBranch\u001b[0m\u001b[0;34m(\u001b[0m\u001b[0mself\u001b[0m\u001b[0;34m,\u001b[0m \u001b[0mfn\u001b[0m\u001b[0;34m)\u001b[0m\u001b[0;34m:\u001b[0m\u001b[0;34m\u001b[0m\u001b[0m\n\u001b[1;32m   1659\u001b[0m     \u001b[0;34m\"\"\"Add the subgraph defined by fn() to the graph.\"\"\"\u001b[0m\u001b[0;34m\u001b[0m\u001b[0m\n\u001b[0;32m-> 1660\u001b[0;31m     \u001b[0mr\u001b[0m \u001b[0;34m=\u001b[0m \u001b[0mfn\u001b[0m\u001b[0;34m(\u001b[0m\u001b[0;34m)\u001b[0m\u001b[0;34m\u001b[0m\u001b[0m\n\u001b[0m\u001b[1;32m   1661\u001b[0m     \u001b[0moriginal_r\u001b[0m \u001b[0;34m=\u001b[0m \u001b[0mr\u001b[0m\u001b[0;34m\u001b[0m\u001b[0m\n\u001b[1;32m   1662\u001b[0m     \u001b[0mresult\u001b[0m \u001b[0;34m=\u001b[0m \u001b[0;34m[\u001b[0m\u001b[0;34m]\u001b[0m\u001b[0;34m\u001b[0m\u001b[0m\n",
      "\u001b[0;32m/usr/local/lib/python3.5/dist-packages/tensorflow/python/ops/rnn.py\u001b[0m in \u001b[0;36m_maybe_copy_some_through\u001b[0;34m()\u001b[0m\n\u001b[1;32m    166\u001b[0m         \u001b[0mtime\u001b[0m \u001b[0;34m<\u001b[0m \u001b[0mmin_sequence_length\u001b[0m\u001b[0;34m,\u001b[0m \u001b[0;32mlambda\u001b[0m\u001b[0;34m:\u001b[0m \u001b[0mflat_new_output\u001b[0m \u001b[0;34m+\u001b[0m \u001b[0mflat_new_state\u001b[0m\u001b[0;34m,\u001b[0m\u001b[0;34m\u001b[0m\u001b[0m\n\u001b[1;32m    167\u001b[0m         \u001b[0;31m# else copy some of it through\u001b[0m\u001b[0;34m\u001b[0m\u001b[0;34m\u001b[0m\u001b[0m\n\u001b[0;32m--> 168\u001b[0;31m         lambda: _copy_some_through(flat_new_output, flat_new_state))\n\u001b[0m\u001b[1;32m    169\u001b[0m \u001b[0;34m\u001b[0m\u001b[0m\n\u001b[1;32m    170\u001b[0m   \u001b[0;31m# TODO(ebrevdo): skipping these conditionals may cause a slowdown,\u001b[0m\u001b[0;34m\u001b[0m\u001b[0;34m\u001b[0m\u001b[0m\n",
      "\u001b[0;32m/usr/local/lib/python3.5/dist-packages/tensorflow/python/ops/control_flow_ops.py\u001b[0m in \u001b[0;36mcond\u001b[0;34m(pred, fn1, fn2, name)\u001b[0m\n\u001b[1;32m   1784\u001b[0m         raise ValueError(\"Outputs of fn1 and fn2 must have the same type: \"\n\u001b[1;32m   1785\u001b[0m                          \"%s, %s\" % (val_x.dtype.name, val_y.dtype.name))\n\u001b[0;32m-> 1786\u001b[0;31m     \u001b[0mmerges\u001b[0m \u001b[0;34m=\u001b[0m \u001b[0;34m[\u001b[0m\u001b[0mmerge\u001b[0m\u001b[0;34m(\u001b[0m\u001b[0;34m[\u001b[0m\u001b[0mx\u001b[0m\u001b[0;34m[\u001b[0m\u001b[0;36m0\u001b[0m\u001b[0;34m]\u001b[0m\u001b[0;34m,\u001b[0m \u001b[0mx\u001b[0m\u001b[0;34m[\u001b[0m\u001b[0;36m1\u001b[0m\u001b[0;34m]\u001b[0m\u001b[0;34m]\u001b[0m\u001b[0;34m)\u001b[0m\u001b[0;34m[\u001b[0m\u001b[0;36m0\u001b[0m\u001b[0;34m]\u001b[0m \u001b[0;32mfor\u001b[0m \u001b[0mx\u001b[0m \u001b[0;32min\u001b[0m \u001b[0mzip\u001b[0m\u001b[0;34m(\u001b[0m\u001b[0mres_f\u001b[0m\u001b[0;34m,\u001b[0m \u001b[0mres_t\u001b[0m\u001b[0;34m)\u001b[0m\u001b[0;34m]\u001b[0m\u001b[0;34m\u001b[0m\u001b[0m\n\u001b[0m\u001b[1;32m   1787\u001b[0m     \u001b[0mmerges\u001b[0m \u001b[0;34m=\u001b[0m \u001b[0m_convert_flows_to_tensorarrays\u001b[0m\u001b[0;34m(\u001b[0m\u001b[0morig_res\u001b[0m\u001b[0;34m,\u001b[0m \u001b[0mmerges\u001b[0m\u001b[0;34m)\u001b[0m\u001b[0;34m\u001b[0m\u001b[0m\n\u001b[1;32m   1788\u001b[0m \u001b[0;34m\u001b[0m\u001b[0m\n",
      "\u001b[0;32m/usr/local/lib/python3.5/dist-packages/tensorflow/python/ops/control_flow_ops.py\u001b[0m in \u001b[0;36m<listcomp>\u001b[0;34m(.0)\u001b[0m\n\u001b[1;32m   1784\u001b[0m         raise ValueError(\"Outputs of fn1 and fn2 must have the same type: \"\n\u001b[1;32m   1785\u001b[0m                          \"%s, %s\" % (val_x.dtype.name, val_y.dtype.name))\n\u001b[0;32m-> 1786\u001b[0;31m     \u001b[0mmerges\u001b[0m \u001b[0;34m=\u001b[0m \u001b[0;34m[\u001b[0m\u001b[0mmerge\u001b[0m\u001b[0;34m(\u001b[0m\u001b[0;34m[\u001b[0m\u001b[0mx\u001b[0m\u001b[0;34m[\u001b[0m\u001b[0;36m0\u001b[0m\u001b[0;34m]\u001b[0m\u001b[0;34m,\u001b[0m \u001b[0mx\u001b[0m\u001b[0;34m[\u001b[0m\u001b[0;36m1\u001b[0m\u001b[0;34m]\u001b[0m\u001b[0;34m]\u001b[0m\u001b[0;34m)\u001b[0m\u001b[0;34m[\u001b[0m\u001b[0;36m0\u001b[0m\u001b[0;34m]\u001b[0m \u001b[0;32mfor\u001b[0m \u001b[0mx\u001b[0m \u001b[0;32min\u001b[0m \u001b[0mzip\u001b[0m\u001b[0;34m(\u001b[0m\u001b[0mres_f\u001b[0m\u001b[0;34m,\u001b[0m \u001b[0mres_t\u001b[0m\u001b[0;34m)\u001b[0m\u001b[0;34m]\u001b[0m\u001b[0;34m\u001b[0m\u001b[0m\n\u001b[0m\u001b[1;32m   1787\u001b[0m     \u001b[0mmerges\u001b[0m \u001b[0;34m=\u001b[0m \u001b[0m_convert_flows_to_tensorarrays\u001b[0m\u001b[0;34m(\u001b[0m\u001b[0morig_res\u001b[0m\u001b[0;34m,\u001b[0m \u001b[0mmerges\u001b[0m\u001b[0;34m)\u001b[0m\u001b[0;34m\u001b[0m\u001b[0m\n\u001b[1;32m   1788\u001b[0m \u001b[0;34m\u001b[0m\u001b[0m\n",
      "\u001b[0;32m/usr/local/lib/python3.5/dist-packages/tensorflow/python/ops/control_flow_ops.py\u001b[0m in \u001b[0;36mmerge\u001b[0;34m(inputs, name)\u001b[0m\n\u001b[1;32m    415\u001b[0m               for inp in inputs]\n\u001b[1;32m    416\u001b[0m     \u001b[0;32mif\u001b[0m \u001b[0mall\u001b[0m\u001b[0;34m(\u001b[0m\u001b[0;34m[\u001b[0m\u001b[0misinstance\u001b[0m\u001b[0;34m(\u001b[0m\u001b[0mv\u001b[0m\u001b[0;34m,\u001b[0m \u001b[0mops\u001b[0m\u001b[0;34m.\u001b[0m\u001b[0mTensor\u001b[0m\u001b[0;34m)\u001b[0m \u001b[0;32mfor\u001b[0m \u001b[0mv\u001b[0m \u001b[0;32min\u001b[0m \u001b[0minputs\u001b[0m\u001b[0;34m]\u001b[0m\u001b[0;34m)\u001b[0m\u001b[0;34m:\u001b[0m\u001b[0;34m\u001b[0m\u001b[0m\n\u001b[0;32m--> 417\u001b[0;31m       \u001b[0;32mif\u001b[0m \u001b[0mall\u001b[0m\u001b[0;34m(\u001b[0m\u001b[0;34m[\u001b[0m\u001b[0mv\u001b[0m\u001b[0;34m.\u001b[0m\u001b[0mdtype\u001b[0m\u001b[0;34m.\u001b[0m\u001b[0m_is_ref_dtype\u001b[0m \u001b[0;32mfor\u001b[0m \u001b[0mv\u001b[0m \u001b[0;32min\u001b[0m \u001b[0minputs\u001b[0m\u001b[0;34m]\u001b[0m\u001b[0;34m)\u001b[0m\u001b[0;34m:\u001b[0m  \u001b[0;31m# pylint: disable=protected-access\u001b[0m\u001b[0;34m\u001b[0m\u001b[0m\n\u001b[0m\u001b[1;32m    418\u001b[0m         \u001b[0;32mreturn\u001b[0m \u001b[0mgen_control_flow_ops\u001b[0m\u001b[0;34m.\u001b[0m\u001b[0m_ref_merge\u001b[0m\u001b[0;34m(\u001b[0m\u001b[0minputs\u001b[0m\u001b[0;34m,\u001b[0m \u001b[0mname\u001b[0m\u001b[0;34m)\u001b[0m\u001b[0;34m\u001b[0m\u001b[0m\n\u001b[1;32m    419\u001b[0m       \u001b[0;32melse\u001b[0m\u001b[0;34m:\u001b[0m\u001b[0;34m\u001b[0m\u001b[0m\n",
      "\u001b[0;31mKeyboardInterrupt\u001b[0m: "
     ]
    }
   ],
   "source": [
    "imp.reload(models)\n",
    "\n",
    "rnn = models.Model(func=models.build_rnn, input_size=50, output_size=8, bidirectional=False, hidden=100)"
   ]
  },
  {
   "cell_type": "markdown",
   "metadata": {},
   "source": [
    "Mere building computational graph takes far too long. I will ditch concept of determining sentiment with RNN, until I figure out work-around."
   ]
  },
  {
   "cell_type": "code",
   "execution_count": 421,
   "metadata": {},
   "outputs": [
    {
     "data": {
      "text/plain": [
       "<module 'models' from '/home/lukasz/Dokumenty/DEEP LEARNING/NLP/oxford/models.py'>"
      ]
     },
     "execution_count": 421,
     "metadata": {},
     "output_type": "execute_result"
    }
   ],
   "source": [
    "imp.reload(models)"
   ]
  },
  {
   "cell_type": "code",
   "execution_count": 40,
   "metadata": {
    "collapsed": true
   },
   "outputs": [],
   "source": [
    "score, pip = utils.train_test_pipeline(TfidfVectorizer, models.Model, data, at_least_threshold,\n",
    "                                      func=models.build_mlp, input_size=len(at_least_threshold), output_size=8, \n",
    "                                      architecture=[2000, 500], dropout=1)"
   ]
  },
  {
   "cell_type": "code",
   "execution_count": 41,
   "metadata": {},
   "outputs": [
    {
     "data": {
      "text/plain": [
       "{'precision': 0.27050698577258886,\n",
       " 'recall': 0.26882296253064225,\n",
       " 'test': 0.51118210862619806,\n",
       " 'train': 0.97532556545579163}"
      ]
     },
     "execution_count": 41,
     "metadata": {},
     "output_type": "execute_result"
    }
   ],
   "source": [
    "score"
   ]
  },
  {
   "cell_type": "code",
   "execution_count": 42,
   "metadata": {
    "scrolled": true
   },
   "outputs": [
    {
     "name": "stderr",
     "output_type": "stream",
     "text": [
      "/usr/local/lib/python3.5/dist-packages/sklearn/metrics/classification.py:1113: UndefinedMetricWarning: Precision is ill-defined and being set to 0.0 due to no predicted samples.\n",
      "  'precision', 'predicted', average, warn_for)\n"
     ]
    },
    {
     "name": "stdout",
     "output_type": "stream",
     "text": [
      "0.5 {'precision': 0.008386581469648562, 'train': 0.082248115147361203, 'recall': 0.125, 'test': 0.067092651757188496}\n"
     ]
    },
    {
     "name": "stderr",
     "output_type": "stream",
     "text": [
      "/usr/local/lib/python3.5/dist-packages/sklearn/metrics/classification.py:1113: UndefinedMetricWarning: Precision is ill-defined and being set to 0.0 due to no predicted samples.\n",
      "  'precision', 'predicted', average, warn_for)\n"
     ]
    },
    {
     "name": "stdout",
     "output_type": "stream",
     "text": [
      "0.555555555556 {'precision': 0.0027955271565495207, 'train': 0.019191226867717615, 'recall': 0.125, 'test': 0.022364217252396165}\n"
     ]
    },
    {
     "name": "stderr",
     "output_type": "stream",
     "text": [
      "/usr/local/lib/python3.5/dist-packages/sklearn/metrics/classification.py:1113: UndefinedMetricWarning: Precision is ill-defined and being set to 0.0 due to no predicted samples.\n",
      "  'precision', 'predicted', average, warn_for)\n"
     ]
    },
    {
     "name": "stdout",
     "output_type": "stream",
     "text": [
      "0.611111111111 {'precision': 0.19259999999999999, 'train': 0.55243317340644282, 'recall': 0.12701612903225806, 'test': 0.54153354632587858}\n"
     ]
    },
    {
     "name": "stderr",
     "output_type": "stream",
     "text": [
      "/usr/local/lib/python3.5/dist-packages/sklearn/metrics/classification.py:1113: UndefinedMetricWarning: Precision is ill-defined and being set to 0.0 due to no predicted samples.\n",
      "  'precision', 'predicted', average, warn_for)\n"
     ]
    },
    {
     "name": "stdout",
     "output_type": "stream",
     "text": [
      "0.666666666667 {'precision': 0.0027955271565495207, 'train': 0.022618231665524333, 'recall': 0.125, 'test': 0.022364217252396165}\n"
     ]
    },
    {
     "name": "stderr",
     "output_type": "stream",
     "text": [
      "/usr/local/lib/python3.5/dist-packages/sklearn/metrics/classification.py:1113: UndefinedMetricWarning: Precision is ill-defined and being set to 0.0 due to no predicted samples.\n",
      "  'precision', 'predicted', average, warn_for)\n"
     ]
    },
    {
     "name": "stdout",
     "output_type": "stream",
     "text": [
      "0.722222222222 {'precision': 0.1278, 'train': 0.025359835503769704, 'recall': 0.12701612903225806, 'test': 0.023961661341853034}\n"
     ]
    },
    {
     "name": "stderr",
     "output_type": "stream",
     "text": [
      "/usr/local/lib/python3.5/dist-packages/sklearn/metrics/classification.py:1113: UndefinedMetricWarning: Precision is ill-defined and being set to 0.0 due to no predicted samples.\n",
      "  'precision', 'predicted', average, warn_for)\n"
     ]
    },
    {
     "name": "stdout",
     "output_type": "stream",
     "text": [
      "0.777777777778 {'precision': 0.19259999999999999, 'train': 0.55928718300205615, 'recall': 0.12701612903225806, 'test': 0.54153354632587858}\n"
     ]
    },
    {
     "name": "stderr",
     "output_type": "stream",
     "text": [
      "/usr/local/lib/python3.5/dist-packages/sklearn/metrics/classification.py:1113: UndefinedMetricWarning: Precision is ill-defined and being set to 0.0 due to no predicted samples.\n",
      "  'precision', 'predicted', average, warn_for)\n"
     ]
    },
    {
     "name": "stdout",
     "output_type": "stream",
     "text": [
      "0.833333333333 {'precision': 0.102868548905049, 'train': 0.18437285812200138, 'recall': 0.15687405529216944, 'test': 0.11022364217252396}\n"
     ]
    },
    {
     "name": "stderr",
     "output_type": "stream",
     "text": [
      "/usr/local/lib/python3.5/dist-packages/sklearn/metrics/classification.py:1113: UndefinedMetricWarning: Precision is ill-defined and being set to 0.0 due to no predicted samples.\n",
      "  'precision', 'predicted', average, warn_for)\n"
     ]
    },
    {
     "name": "stdout",
     "output_type": "stream",
     "text": [
      "0.888888888889 {'precision': 0.14248449797281182, 'train': 0.1501028101439342, 'recall': 0.1315676155936702, 'test': 0.078274760383386585}\n",
      "0.944444444444 {'precision': 0.28083829021329021, 'train': 0.83207676490747084, 'recall': 0.27682370105089538, 'test': 0.44568690095846647}\n",
      "1.0 {'precision': 0.23608955330976766, 'train': 0.99794379712131598, 'recall': 0.23004514577515797, 'test': 0.51437699680511184}\n"
     ]
    }
   ],
   "source": [
    "nn_scores = []\n",
    "for d in np.linspace(.5, 1, num=10):\n",
    "    \n",
    "    score, pip = utils.train_test_pipeline(TfidfVectorizer, models.Model, data, at_least_threshold,\n",
    "                                      func=models.build_mlp, input_size=len(at_least_threshold), output_size=8, \n",
    "                                      architecture=[2000, 500], dropout=d)\n",
    "    \n",
    "    nn_scores.append(score)\n",
    "    \n",
    "    print(d, score)"
   ]
  },
  {
   "cell_type": "markdown",
   "metadata": {},
   "source": [
    "Results are... interesting. Dropout is very powerful regularizer, that's for sure, but I would not expect it to drive network's performance that low. However, not all hope is lost. I can finetune this network using hyperopt package, since doing it by hand would take a lot of time and be rather tedious and not exactly inspiring work. But before I get to automatising everything, I will investigate how loss function changes with succesive iterations. It might be that test and train accuracy diverges after reaching some high level. "
   ]
  },
  {
   "cell_type": "code",
   "execution_count": 101,
   "metadata": {},
   "outputs": [
    {
     "data": {
      "text/plain": [
       "<module 'utils' from '/home/lukasz/Dokumenty/DEEP LEARNING/NLP/oxford/utils.py'>"
      ]
     },
     "execution_count": 101,
     "metadata": {},
     "output_type": "execute_result"
    }
   ],
   "source": [
    "imp.reload(utils)"
   ]
  },
  {
   "cell_type": "code",
   "execution_count": 102,
   "metadata": {},
   "outputs": [
    {
     "data": {
      "text/plain": [
       "<module 'models' from '/home/lukasz/Dokumenty/DEEP LEARNING/NLP/oxford/models.py'>"
      ]
     },
     "execution_count": 102,
     "metadata": {},
     "output_type": "execute_result"
    }
   ],
   "source": [
    "imp.reload(models)"
   ]
  },
  {
   "cell_type": "code",
   "execution_count": 106,
   "metadata": {},
   "outputs": [],
   "source": [
    "score, pip = utils.train_with_loss_history(TfidfVectorizer, data, models.Model, at_least_threshold,\n",
    "                                          func=models.build_mlp, input_size=len(at_least_threshold), \n",
    "                                          output_size=8, architecture=[1000, 500], dropout=1, iters=100)"
   ]
  },
  {
   "cell_type": "code",
   "execution_count": 54,
   "metadata": {
    "collapsed": true
   },
   "outputs": [],
   "source": [
    "import hyperopt\n",
    "from hyperopt import hp, fmin, tpe, STATUS_OK, Trials"
   ]
  }
 ],
 "metadata": {
  "kernelspec": {
   "display_name": "Python 3",
   "language": "python",
   "name": "python3"
  },
  "language_info": {
   "codemirror_mode": {
    "name": "ipython",
    "version": 3
   },
   "file_extension": ".py",
   "mimetype": "text/x-python",
   "name": "python",
   "nbconvert_exporter": "python",
   "pygments_lexer": "ipython3",
   "version": "3.5.2"
  }
 },
 "nbformat": 4,
 "nbformat_minor": 2
}
