{
 "cells": [
  {
   "cell_type": "code",
   "execution_count": 7,
   "metadata": {
    "collapsed": true
   },
   "outputs": [],
   "source": [
    "from collections import defaultdict"
   ]
  },
  {
   "cell_type": "code",
   "execution_count": 9,
   "metadata": {
    "collapsed": false
   },
   "outputs": [],
   "source": [
    "d = defaultdict(int)"
   ]
  },
  {
   "cell_type": "code",
   "execution_count": 14,
   "metadata": {
    "collapsed": false
   },
   "outputs": [],
   "source": [
    "T = [x.split() for x in T]"
   ]
  },
  {
   "cell_type": "code",
   "execution_count": 16,
   "metadata": {
    "collapsed": false
   },
   "outputs": [],
   "source": [
    "for w in T[0]:\n",
    "    d[w] += 1"
   ]
  },
  {
   "cell_type": "code",
   "execution_count": 19,
   "metadata": {
    "collapsed": true
   },
   "outputs": [],
   "source": [
    "import numpy as np"
   ]
  },
  {
   "cell_type": "code",
   "execution_count": 20,
   "metadata": {
    "collapsed": false
   },
   "outputs": [
    {
     "data": {
      "text/plain": [
       "{6: 95, 7: 90, 8: 92, 9: 87}"
      ]
     },
     "execution_count": 20,
     "metadata": {},
     "output_type": "execute_result"
    }
   ],
   "source": [
    "x = np.random.randint(0, 10, 100)\n",
    "\n",
    "{y:i for i, y in enumerate(x) if y > 5}"
   ]
  },
  {
   "cell_type": "code",
   "execution_count": 23,
   "metadata": {
    "collapsed": false,
    "deletable": true,
    "editable": true
   },
   "outputs": [],
   "source": [
    "import tensorflow as tf, numpy as np\n",
    "\n",
    "import operator\n",
    "\n",
    "class word2vec:\n",
    "    \n",
    "    def __init__(self, sentences=None, size=100, embeddings=None, min_count=5, epochs=5, window=5,\n",
    "                 lr=1e-1, N=None, loss='nce', num_sampled=5, threads=5, cbow=1):\n",
    "        \n",
    "        #create dictionary\n",
    "        #sentences is iterable of strings, dealing whole batch in one step\n",
    "        self.min_count = min_count\n",
    "        self.size = size\n",
    "        self.window = window\n",
    "        self.epochs = epochs\n",
    "        \n",
    "        \n",
    "        self.checker = lambda x: isinstance(x, str)\n",
    "        \n",
    "        if sentences is not None:\n",
    "            self.sents = sentences\n",
    "            self.create_matrix()\n",
    "        \n",
    "        elif embeddings is not None and N is not None:\n",
    "            self.embeddings = tf.Variable(embeddings)\n",
    "            self.quantity = N\n",
    "            \n",
    "        else:\n",
    "            raise ValueError('provide either sentences of embedding matrix')\n",
    "        #set up data flow\n",
    "        \n",
    "        \n",
    "        self.words_indices_ph = tf.placeholder(tf.int32, [None, 2*window])\n",
    "        self.targets_indices_ph = tf.placeholder(tf.int32, [None, 1])\n",
    "        \n",
    "        self.vecs = tf.nn.embedding_lookup(self.embeddings, self.words_indices_ph)\n",
    "        \n",
    "        self.context = tf.reduce_mean(self.vecs, axis=1)\n",
    "        \n",
    "        self.weights, self.biases = tf.Variable(tf.truncated_normal([self.quantity, self.size])), tf.Variable(tf.truncated_normal([self.quantity]))\n",
    "        \n",
    "        if loss == 'nce':\n",
    "            self.loss = tf.nn.nce_loss(self.weights, self.biases, self.targets_indices_ph, \n",
    "                                       self.context, num_sampled, self.quantity)\n",
    "            \n",
    "        elif loss == 'sampled':\n",
    "            self.loss = tf.nn.sampled_softmax(self.weights, self.biases, self.targets_indices_ph,\n",
    "                                             self.context, num_sampled, self.quantity)\n",
    "            \n",
    "            \n",
    "        self.opt = tf.train.AdamOptimizer(lr)\n",
    "        self.optimizer = self.opt.minimize(tf.reduce_mean(self.loss))\n",
    "        \n",
    "        self.probs = tf.nn.softmax(tf.matmul(self.context, tf.transpose(self.weights))+self.biases)\n",
    "        self.indices = tf.argmax(self.probs, 1)\n",
    "        \n",
    "        \n",
    "        self.sess = tf.InteractiveSession()\n",
    "        self.sess.run(tf.global_variables_initializer())\n",
    "        \n",
    "            \n",
    "    def create_matrix(self, sentences=None):\n",
    "        all_words_count_dict = {}\n",
    "        \n",
    "        if sentences is not None:\n",
    "            self.sents = sentences\n",
    "        \n",
    "        for words in self.sents:\n",
    "            if isinstance(words, str):\n",
    "                words = sent.split()\n",
    "            assert isinstance(words, list) and all(list(map(self.checker, words)))\n",
    "            for word in words:\n",
    "                if word not in all_words_count_dict:\n",
    "                    all_words_count_dict[word] = 0\n",
    "                    \n",
    "                all_words_count_dict[word] += 1\n",
    "                \n",
    "        self.word_to_int = sorted(all_words_count_dict.items(), key=operator.itemgetter(1))[::-1]\n",
    "        self.word_to_int = {x[0]:i for i, x in enumerate(self.word_to_int) if x[1] > self.min_count}\n",
    "        self.int_to_word = dict([reversed(item) for item in self.word_to_int.items()])\n",
    "        \n",
    "        self.quantity = len(self.word_to_int)+2\n",
    "        \n",
    "        self.embeddings = tf.Variable(tf.truncated_normal([self.quantity, self.size], mean=0, stddev=1e-1))\n",
    "        \n",
    "    \n",
    "    def train(self, new_sentences=None, verbose=True, display=100):\n",
    "        \n",
    "        #mozna sprawdzic jakos, czy nowe zdania nie wychodza z korpusem poza poprzednie\n",
    "        for epoch in range(self.epochs):\n",
    "            \n",
    "            if verbose:\n",
    "                print(\"epoch\", epoch+1)\n",
    "            \n",
    "            for sent_nr, sentence in enumerate(self.sents):\n",
    "                \n",
    "                nrs = [self.word_to_int[x] if x in self.word_to_int else self.quantity - 2 for x in sentence.split()]\n",
    "                nrs = [self.quantity-1]*self.window + nrs + [self.quantity-1]*self.window\n",
    "                \n",
    "                X = [nrs[i-self.window:i] + nrs[i+1:i+self.window+1] for i in range(self.window, len(nrs)-self.window)]\n",
    "                Y = nrs[self.window:len(nrs)-self.window]\n",
    "                feed_dict={self.words_indices_ph:np.asarray(X), \n",
    "                            self.targets_indices_ph:np.asarray(Y)[None].T}\n",
    "                \n",
    "                self.sess.run(self.optimizer, feed_dict=feed_dict)\n",
    "                \n",
    "                if verbose and sent_nr%display==0:\n",
    "                    print('sentence {} of {}'.format(sent_nr, len(self.sents)))\n",
    "                    \n",
    "        \n",
    "        self.end_vectors = tf.nn.l2_normalize( self.embeddings + self.weights, 1)\n",
    "        \n",
    "        self.sim_inds = tf.placeholder(tf.int32, [None], name='sim_inds_or_pairwise')\n",
    "        self.sim_vecs = tf.nn.embedding_lookup(self.end_vectors, self.sim_inds)\n",
    "        \n",
    "        self.cosine = tf.matmul(self.sim_vecs, tf.transpose(self.normed_embeddings))\n",
    "        \n",
    "        self.best_k = tf.placeholder(tf.int32, [], name='best_k')\n",
    "        \n",
    "        self.topk = tf.nn.top_k(self.cosine, k = self.best_k)\n",
    "        \n",
    "        self.pairwise_vecs = tf.nn.embedding_lookup(self.normed_embeddings, self.sim_inds)\n",
    "        \n",
    "        self.vec = tf.reduce_sum(tf.gather(self.pairwise_vecs, [0,1])) - tf.gather(self.pairwise_vecs, 2)\n",
    "        \n",
    "        self.relevant = tf.matmul(tf.expand_dims(tf.nn.l2_normalize(self.vec, 0), 0), tf.transpose(self.normed_embeddings))\n",
    "        \n",
    "        self.topk_pair = tf.nn.top_k(self.relevant, k= self.best_k)\n",
    "        \n",
    "    \n",
    "    def pairwise_comparison(self, pair_1, pair_2, topk=10):\n",
    "        \n",
    "        if isinstance(pair_1, str):\n",
    "            pair_1 = pair_1.split()\n",
    "            \n",
    "        if isinstance(pair_2, str):\n",
    "            pair_2 = pair_2.split()\n",
    "        \n",
    "        feed = {self.sim_inds:[self.word_to_int[pair_1[0]], self.word_to_int[pair_2[1]], self.word_to_int[pair_1[1]]], self.best_k:topk}\n",
    "        topk = self.sess.run(self.topk_pair, feed_dict=feed)\n",
    "        \n",
    "        return list(zip([self.int_to_word[x] for x in topk[1][0]], topk[0][0]))\n",
    "        \n",
    "    def most_similar(self, words, topk=10):\n",
    "        inds = [self.word_to_int[x] for x in words if x in self.word_to_int]\n",
    "        topk = self.sess.run(self.topk, feed_dict={self.sim_inds:inds, self.best_k:topk})\n",
    "        \n",
    "        lists = []\n",
    "        for r in range(len(words)):\n",
    "            \n",
    "            lists.append(list(zip([self.int_to_word[x] for x in topk[1][r]], topk[0][r]))[1:])\n",
    "        \n",
    "        return lists\n",
    "        \n",
    "    def __getitem__(self, key):\n",
    "        return self.sess.run(self.embeddings)[self.word_to_int[key], :]"
   ]
  },
  {
   "cell_type": "code",
   "execution_count": 126,
   "metadata": {
    "collapsed": false,
    "deletable": true,
    "editable": true
   },
   "outputs": [],
   "source": [
    "class GloVe:\n",
    "    \n",
    "    def __init__(self, sentences=None,size=100, embeddings=None, min_count=0, num_sampled=2, window=2, \n",
    "                 epochs=5, lr=1e-1, cooccurence=None, batch=32):\n",
    "        \n",
    "        self.epochs = epochs\n",
    "        self.window = window\n",
    "        self.min_count = min_count\n",
    "        self.batch = batch\n",
    "        \n",
    "        if sentences is not None:\n",
    "            self.sents = sentences\n",
    "            self.create_matrix()\n",
    "            self.embeddings = tf.Variable(tf.truncated_normal([self.quantity+2, size]))\n",
    "            \n",
    "        elif embeddings is not None and cooccurence is not None and sentences is None:\n",
    "            self.embeddings = embeddings\n",
    "            self.cooccurence = cooccurence\n",
    "        \n",
    "        else:\n",
    "            raise ValueError\n",
    "        \n",
    "        self.first_word_ph = tf.placeholder(tf.int32, [None])\n",
    "        self.second_word_ph = tf.placeholder(tf.int32, [None])\n",
    "        \n",
    "        self.first_word = tf.nn.embedding_lookup(self.embeddings, self.first_word_ph, name='first_words')\n",
    "        self.second_word = tf.nn.embedding_lookup(self.embeddings, self.second_word_ph, name='second_words')\n",
    "        \n",
    "        self.targets_ph = tf.placeholder('float', [None, None], name='targets') #macierz wycinków z macierzy współwystępowania\n",
    "        \n",
    "        self.dots_products = tf.matmul( self.first_word, tf.transpose(self.second_word))\n",
    "        \n",
    "        self.diffs = tf.multiply( tf.pow( self.targets_ph/self.max_occurence, 3/4), tf.square( self.dots_products - tf.log(self.targets_ph) ))\n",
    "        self.loss = tf.reduce_mean(self.diffs)\n",
    "        \n",
    "        self.optimizer = tf.train.AdamOptimizer(lr).minimize(self.loss)\n",
    "        \n",
    "        self.sess = tf.InteractiveSession()\n",
    "        self.sess.run(tf.global_variables_initializer())\n",
    "            \n",
    "    def create_matrix(self, sentences=None, append=False):\n",
    "        all_words_count_dict = {}\n",
    "        #append = True jeśli chcesz dodać do starej macierzy, False jeśli chcesz stworzyć ją od nowa\n",
    "        #jeśli nie podasz nowych zdań, nie będzie miało znaczenia\n",
    "        \n",
    "        if sentences is not None:\n",
    "            self.sents = sentences\n",
    "        \n",
    "        for sent in iter(self.sents):\n",
    "            words = sent.split()\n",
    "            for word in words:\n",
    "                if word not in all_words_count_dict:\n",
    "                    all_words_count_dict[word] = 0\n",
    "                    \n",
    "                all_words_count_dict[word] += 1\n",
    "                \n",
    "        self.word_to_int = sorted(all_words_count_dict.items(), key=operator.itemgetter(1))[::-1]\n",
    "        self.word_to_int = {x[0]:i for i, x in enumerate(self.word_to_int) if x[1] > self.min_count}\n",
    "        \n",
    "        self.quantity = len(self.word_to_int)+2\n",
    "        \n",
    "        self.cooccurence = np.zeros((self.quantity-1, self.quantity-1)).astype(int)\n",
    "        \n",
    "        for sentence in iter(self.sents):\n",
    "            \n",
    "            nrs = [self.word_to_int[x] if x in self.word_to_int else self.quantity - 2 for x in sentence.split()]\n",
    "            \n",
    "            n = len(nrs)\n",
    "            for i in range(n):\n",
    "                \n",
    "                inds = nrs[max(0, i-self.window):i] + nrs[i+1:min(n-1, i+self.window+1)]\n",
    "                self.cooccurence[nrs[i], inds] += 1\n",
    "                \n",
    "        self.max_occurence = tf.constant(np.amax(self.cooccurence).astype(np.float32))\n",
    "                \n",
    "                \n",
    "    def train(self, sentences=None, append=True, randomize=False, batch=32):\n",
    "        \n",
    "        #w zaleznosci od append i sentences bedzie wywolanie tworzenia macierzy raz jeszcze\n",
    "        for epoch in range(self.epochs):\n",
    "            \n",
    "            #nie iterujemy po zdaniach tylko bierzemy po kolei wszystkie pary słów\n",
    "            x_offset, y_offset = 0, 0\n",
    "            for x in range(self.quantity // batch):\n",
    "                \n",
    "                x_inds = np.arange(batch*x, min(self.quantity-1, batch*(x+1)))\n",
    "                for y in range(self.quantity // batch):\n",
    "                    \n",
    "                    y_inds = np.arange(batch*y, min(self.quantity-1, batch*(y+1)))\n",
    "                    \n",
    "                    feed_dict = {self.first_word_ph:x_inds, self.second_word_ph:y_inds, self.targets_ph:self.cooccurence[x*batch:(x+1)*batch, y*batch:(y+1)*batch]}\n",
    "                    \n",
    "                    self.sess.run(self.optimizer, feed_dict=feed_dict)\n",
    "                    \n",
    "        \n",
    "                \n",
    " \n",
    "    def get_cooccurence(self, word_1, word_2):\n",
    "        i, j = self.word_to_int[word_1], self.word_to_int[word_2]\n",
    "        \n",
    "        return self.cooccurence[i, j]"
   ]
  },
  {
   "cell_type": "code",
   "execution_count": 2,
   "metadata": {
    "collapsed": true,
    "deletable": true,
    "editable": true
   },
   "outputs": [],
   "source": [
    "import os"
   ]
  },
  {
   "cell_type": "code",
   "execution_count": 11,
   "metadata": {
    "collapsed": true,
    "deletable": true,
    "editable": true
   },
   "outputs": [],
   "source": [
    "with open('ted_talks_eng_pure.txt','r') as f:\n",
    "    T = f.read().split('\\n')"
   ]
  },
  {
   "cell_type": "code",
   "execution_count": 12,
   "metadata": {
    "collapsed": true,
    "deletable": true,
    "editable": true
   },
   "outputs": [],
   "source": [
    "T = [x for x in T if len(x.split())]"
   ]
  },
  {
   "cell_type": "code",
   "execution_count": 24,
   "metadata": {
    "collapsed": false,
    "deletable": true,
    "editable": true,
    "scrolled": false
   },
   "outputs": [],
   "source": [
    "mod = word2vec(T, min_count=5)\n",
    "# mod.train()"
   ]
  },
  {
   "cell_type": "code",
   "execution_count": 25,
   "metadata": {
    "collapsed": false
   },
   "outputs": [
    {
     "data": {
      "text/plain": [
       "<tf.Tensor 'embedding_lookup:0' shape=(?, 10, 100) dtype=float32>"
      ]
     },
     "execution_count": 25,
     "metadata": {},
     "output_type": "execute_result"
    }
   ],
   "source": [
    "mod.vecs"
   ]
  },
  {
   "cell_type": "code",
   "execution_count": 110,
   "metadata": {
    "collapsed": false,
    "deletable": true,
    "editable": true
   },
   "outputs": [],
   "source": [
    "from gensim.models.word2vec import Word2Vec"
   ]
  },
  {
   "cell_type": "code",
   "execution_count": 115,
   "metadata": {
    "collapsed": true,
    "deletable": true,
    "editable": true
   },
   "outputs": [],
   "source": [
    "model = Word2Vec([x.split() for x in T])"
   ]
  },
  {
   "cell_type": "code",
   "execution_count": 119,
   "metadata": {
    "collapsed": false,
    "deletable": true,
    "editable": true
   },
   "outputs": [
    {
     "data": {
      "text/plain": [
       "[('radiation', 0.700118362903595),\n",
       " ('gains', 0.6583161354064941),\n",
       " ('gain', 0.6563538312911987),\n",
       " ('oxytocin', 0.6500513553619385),\n",
       " ('prevent', 0.6465193629264832),\n",
       " ('pollution', 0.6462498903274536),\n",
       " ('skeletal', 0.6421383023262024),\n",
       " ('exposure', 0.6407454013824463),\n",
       " ('fitness', 0.6394904851913452),\n",
       " ('nutrients', 0.6326676607131958)]"
      ]
     },
     "execution_count": 119,
     "metadata": {},
     "output_type": "execute_result"
    }
   ],
   "source": [
    "model.most_similar('damage')"
   ]
  },
  {
   "cell_type": "code",
   "execution_count": 120,
   "metadata": {
    "collapsed": false,
    "deletable": true,
    "editable": true,
    "scrolled": true
   },
   "outputs": [
    {
     "data": {
      "text/plain": [
       "[[('fix', 0.42376211),\n",
       "  ('liar', 0.40842801),\n",
       "  ('up', 0.38568267),\n",
       "  ('gene', 0.38455483),\n",
       "  ('murderer', 0.37005201),\n",
       "  ('fivestar', 0.36978459),\n",
       "  ('psychopathic', 0.36635658),\n",
       "  ('cortex', 0.36425489),\n",
       "  ('outfit', 0.3609606)]]"
      ]
     },
     "execution_count": 120,
     "metadata": {},
     "output_type": "execute_result"
    }
   ],
   "source": [
    "mod.most_similar(['damage'])"
   ]
  },
  {
   "cell_type": "code",
   "execution_count": 123,
   "metadata": {
    "collapsed": false,
    "deletable": true,
    "editable": true
   },
   "outputs": [
    {
     "data": {
      "text/plain": [
       "[('man', 0.7578160762786865),\n",
       " ('named', 0.748059868812561),\n",
       " ('dr', 0.7321184277534485),\n",
       " ('david', 0.6964748501777649),\n",
       " ('writer', 0.6917567849159241),\n",
       " ('poet', 0.690264880657196),\n",
       " ('boy', 0.680991530418396),\n",
       " ('paul', 0.6693485975265503),\n",
       " ('professor', 0.6665024161338806),\n",
       " ('lady', 0.6614017486572266)]"
      ]
     },
     "execution_count": 123,
     "metadata": {},
     "output_type": "execute_result"
    }
   ],
   "source": [
    "model.most_similar(['woman', 'king'], ['queen'])"
   ]
  },
  {
   "cell_type": "code",
   "execution_count": 124,
   "metadata": {
    "collapsed": false,
    "deletable": true,
    "editable": true
   },
   "outputs": [
    {
     "data": {
      "text/plain": [
       "[('mixture', 0.38606822),\n",
       " ('assessments', 0.34245074),\n",
       " ('arnold', 0.33533168),\n",
       " ('pioneering', 0.32957149),\n",
       " ('habitability', 0.32862407),\n",
       " ('downloads', 0.32733685),\n",
       " ('conferencing', 0.32668549),\n",
       " ('supply', 0.3162491),\n",
       " ('faced', 0.31500465),\n",
       " ('disappearing', 0.31416351)]"
      ]
     },
     "execution_count": 124,
     "metadata": {},
     "output_type": "execute_result"
    }
   ],
   "source": [
    "mod.pairwise_comparison(['woman', 'man'], ['queen', 'king'])"
   ]
  }
 ],
 "metadata": {
  "kernelspec": {
   "display_name": "Python 3",
   "language": "python",
   "name": "python3"
  },
  "language_info": {
   "codemirror_mode": {
    "name": "ipython",
    "version": 3
   },
   "file_extension": ".py",
   "mimetype": "text/x-python",
   "name": "python",
   "nbconvert_exporter": "python",
   "pygments_lexer": "ipython3",
   "version": "3.5.2"
  }
 },
 "nbformat": 4,
 "nbformat_minor": 2
}
